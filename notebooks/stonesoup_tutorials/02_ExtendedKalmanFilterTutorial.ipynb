{
  "cells": [
    {
      "cell_type": "markdown",
      "metadata": {},
      "source": [
        "\n# 2 - Non-linear models: extended Kalman filter\n"
      ]
    },
    {
      "cell_type": "markdown",
      "metadata": {},
      "source": [
        "As well as introducing various aspects of the Stone Soup framework, the previous tutorial\ndetailed the use of a Kalman filter. A significant problem in using the Kalman filter is that it\nrequires transition and sensor models to be linear-Gaussian. In practice, many models are not\nlike this and so alternatives are required. We examine the most commonly-used of such\nalternatives, the extended Kalman filter [#]_ (EKF), in this tutorial.\n\n## Background\n\nRecall that the Kalman filter makes the following linear assumptions of the predicted state and\npredicted measurement:\n\n\\begin{align}\\mathbf{x}_{k|k-1} &= F_{k} \\mathbf{x}_{k-1} + B_{k}\\mathbf{u}_{k}\\\\\n      \\mathbf{z}_{k|k-1} &= H_{k} \\mathbf{x}_{k|k-1}\\end{align}\n\nThe EKF gets round the fact that $f(\\cdot)$ and $h(\\cdot)$ are not of this form by\nmaking linear approximations about $\\mathbf{x}_{k\u22121} = \\boldsymbol{\\mu}_{k\u22121}$ or\n$\\mathbf{x}_{k|k\u22121} = \\boldsymbol{\\mu}_{k|k\u22121}$. It does this by way of a Taylor expansion,\n\n\\begin{align}g(\\mathbf{x})\\rvert_{\\mathbf{x}=\\boldsymbol{\\mu}} \\approx \\sum\\limits_{|\\alpha| \\ge 0}\n      \\frac{(\\mathbf{x} - \\boldsymbol{\\mu})^{\\alpha}}{\\alpha !}\n      (\\mathcal{D}^{\\alpha} g)(\\boldsymbol{\\mu})\\end{align}\n\nThis is usually truncated after the first term, meaning that either\n$\\tilde{F}(\\mathbf{x}_{k-1}) \\approx J(f)\\rvert_{\\mathbf{x}=\\boldsymbol{\\mu}_{k-1}}$ or\n$\\tilde{H}(\\mathbf{x}_{k|k-1}) \\approx J(h)\\rvert_{\\mathbf{x}=\\boldsymbol{\\mu}_{k|k-1}}$\nor both, where $J(\\cdot)$ is the Jacobian matrix. The calculation of the covariances,\nincluding the innovation covariance, then proceeds in exactly the same way as in the Kalman\nfilter using these approximations,\n\n\\begin{align}\\mathbf{x}_{k|k-1} &= f_{k}(\\mathbf{x}_{k-1}) \\\\\n      P_{k|k-1} &= \\tilde{F}_{k}P_{k-1}\\tilde{F}_{k}^T + Q_{k}\\\\\n      \\mathbf{x}_{k} &= \\mathbf{x}_{k|k-1} +\n                        \\tilde{K}_k(\\mathbf{z}_k - h_k(\\mathbf{x}_{k|k-1}))\\\\\n      P_{k} &= P_{k|k-1} - \\tilde{K}_k \\tilde{H}_{k} P_{k|k-1}\\\\\\end{align}\n\nwhere,\n\n\\begin{align}\\tilde{K}_k &= P_{k|k-1} \\tilde{H}_{k}^T \\tilde{S}_k^{-1}\\\\\n      \\tilde{S}_k &= \\tilde{H}_{k} P_{k|k-1} \\tilde{H}_{k}^T + R_{k}\\end{align}\n\n(we omit the control term in this analysis but it also can be incorporated as a non-linear\napproximation of the same form.)\n\nStone Soup implements the EKF\nfor non-linear functions using a finite difference method to find $J(\\cdot)$\nin the appropriate places. We'll now see this in action.\n\n"
      ]
    },
    {
      "cell_type": "markdown",
      "metadata": {},
      "source": [
        "## Nearly-constant velocity example\n\nWe're going to use the same target model as previously, but this time we use a non-linear sensor\nmodel.\n\n"
      ]
    },
    {
      "cell_type": "code",
      "execution_count": null,
      "metadata": {
        "collapsed": false
      },
      "outputs": [],
      "source": [
        "import numpy as np\nfrom datetime import datetime, timedelta\nstart_time = datetime.now().replace(microsecond=0)"
      ]
    },
    {
      "cell_type": "code",
      "execution_count": null,
      "metadata": {
        "collapsed": false
      },
      "outputs": [],
      "source": [
        "np.random.seed(1991)"
      ]
    },
    {
      "cell_type": "markdown",
      "metadata": {},
      "source": [
        "### Create a target\n\nAs in the previous tutorial, the target moves with near constant velocity NE from 0,0.\n\n"
      ]
    },
    {
      "cell_type": "code",
      "execution_count": null,
      "metadata": {
        "collapsed": false
      },
      "outputs": [],
      "source": [
        "from stonesoup.models.transition.linear import CombinedLinearGaussianTransitionModel, \\\n    ConstantVelocity\nfrom stonesoup.types.groundtruth import GroundTruthPath, GroundTruthState\ntransition_model = CombinedLinearGaussianTransitionModel([ConstantVelocity(0.05),\n                                                          ConstantVelocity(0.05)])\ntimesteps = [start_time]\ntruth = GroundTruthPath([GroundTruthState([0, 1, 0, 1], timestamp=start_time)])\n\nfor k in range(1, 21):\n    timesteps.append(start_time+timedelta(seconds=k))\n    truth.append(GroundTruthState(\n        transition_model.function(truth[k-1], noise=True, time_interval=timedelta(seconds=1)),\n        timestamp=timesteps[k]))"
      ]
    },
    {
      "cell_type": "markdown",
      "metadata": {},
      "source": [
        "Plot this\n\n"
      ]
    },
    {
      "cell_type": "code",
      "execution_count": null,
      "metadata": {
        "collapsed": false
      },
      "outputs": [],
      "source": [
        "from stonesoup.plotter import AnimatedPlotterly\nplotter = AnimatedPlotterly(timesteps, tail_length=0.3)\nplotter.plot_ground_truths(truth, [0, 2])\nplotter.fig"
      ]
    },
    {
      "cell_type": "markdown",
      "metadata": {},
      "source": [
        "### A bearing-range sensor\n\nWe're going to simulate a 2d bearing-range sensor. An example of this is available in Stone Soup\nvia the :class:`~.CartesianToBearingRange` class. As the name suggests, this takes the Cartesian\nstate input and returns a relative bearing and range to target. Specifically,\n\n\\begin{align}\\begin{bmatrix}\n      \\theta\\\\\n      r\\\\\n      \\end{bmatrix}\n      =\n      \\begin{bmatrix}\n      \\arctan\\left(\\frac{y-y_p}{x-x_p}\\right)\\\\\n      \\sqrt{(x-x_p)^2 + (y-y_p)^2}\n      \\end{bmatrix}\\end{align}\n\nwhere $x_p,y_p$ is the 2d Cartesian position of the sensor and $x,y$ that of the\ntarget. Note also that the arctan function has to resolve the quadrant ambiguity and so is\nimplemented as the :class:`~.numpy.arctan2`$(y,x)$ function in Python.\n\n"
      ]
    },
    {
      "cell_type": "code",
      "execution_count": null,
      "metadata": {
        "collapsed": false
      },
      "outputs": [],
      "source": [
        "from stonesoup.models.measurement.nonlinear import CartesianToBearingRange\nsensor_x = 50  # Placing the sensor off-centre\nsensor_y = 0\n\nmeasurement_model = CartesianToBearingRange(\n    ndim_state=4,\n    mapping=(0, 2),\n    noise_covar=np.diag([np.radians(0.2), 1]),  # Covariance matrix. 0.2 degree variance in\n    # bearing and 1 metre in range\n    translation_offset=np.array([[sensor_x], [sensor_y]])  # Offset measurements to location of\n    # sensor in cartesian.\n)"
      ]
    },
    {
      "cell_type": "markdown",
      "metadata": {},
      "source": [
        "We create a set of detections using this sensor model.\n\n"
      ]
    },
    {
      "cell_type": "code",
      "execution_count": null,
      "metadata": {
        "collapsed": false
      },
      "outputs": [],
      "source": [
        "from stonesoup.types.detection import Detection\n\nmeasurements = []\nfor state in truth:\n    measurement = measurement_model.function(state, noise=True)\n    measurements.append(Detection(measurement, timestamp=state.timestamp,\n                                  measurement_model=measurement_model))"
      ]
    },
    {
      "cell_type": "markdown",
      "metadata": {},
      "source": [
        "Plot the measurements. Where the model is nonlinear the plotting function uses the inverse\nfunction to get coordinates.\n\n"
      ]
    },
    {
      "cell_type": "code",
      "execution_count": null,
      "metadata": {
        "collapsed": false
      },
      "outputs": [],
      "source": [
        "plotter.plot_measurements(measurements, [0, 2])\nplotter.fig"
      ]
    },
    {
      "cell_type": "markdown",
      "metadata": {},
      "source": [
        "### Set up the extended Kalman filter elements\n\nAnalogously to the Kalman filter, we now create the predictor and updater. As is our custom\nthe predictor takes a transition model and the updater a measurement model. Note that if either\nof these models are linear then the extended predictor/updater defaults to its Kalman equivalent.\nIn fact the extended Kalman filter classes inherit nearly all of their functionality from the\nKalman classes. The only difference being that instead of returning a matrix, in the extended\nversion the :meth:`~.MeasurementModel.matrix()` function returns the Jacobian.\n\n"
      ]
    },
    {
      "cell_type": "code",
      "execution_count": null,
      "metadata": {
        "collapsed": false
      },
      "outputs": [],
      "source": [
        "from stonesoup.predictor.kalman import ExtendedKalmanPredictor\npredictor = ExtendedKalmanPredictor(transition_model)\n\nfrom stonesoup.updater.kalman import ExtendedKalmanUpdater\nupdater = ExtendedKalmanUpdater(measurement_model)"
      ]
    },
    {
      "cell_type": "markdown",
      "metadata": {},
      "source": [
        "### Run the extended Kalman filter\nFirst, we'll create a prior state.\n\n"
      ]
    },
    {
      "cell_type": "code",
      "execution_count": null,
      "metadata": {
        "collapsed": false
      },
      "outputs": [],
      "source": [
        "from stonesoup.types.state import GaussianState\nprior = GaussianState([[0], [1], [0], [1]], np.diag([1.5, 0.5, 1.5, 0.5]), timestamp=start_time)"
      ]
    },
    {
      "cell_type": "markdown",
      "metadata": {},
      "source": [
        "Next iterate over hypotheses and place in a track.\n\n"
      ]
    },
    {
      "cell_type": "code",
      "execution_count": null,
      "metadata": {
        "collapsed": false
      },
      "outputs": [],
      "source": [
        "from stonesoup.types.hypothesis import SingleHypothesis\nfrom stonesoup.types.track import Track\n\ntrack = Track()\nfor measurement in measurements:\n    prediction = predictor.predict(prior, timestamp=measurement.timestamp)\n    hypothesis = SingleHypothesis(prediction, measurement)  # Group a prediction and measurement\n    post = updater.update(hypothesis)\n    track.append(post)\n    prior = track[-1]"
      ]
    },
    {
      "cell_type": "markdown",
      "metadata": {},
      "source": [
        "Plot the resulting track complete with error ellipses at each estimate.\n\n"
      ]
    },
    {
      "cell_type": "code",
      "execution_count": null,
      "metadata": {
        "collapsed": false
      },
      "outputs": [],
      "source": [
        "plotter.plot_tracks(track, [0, 2], uncertainty=True)\nplotter.fig"
      ]
    },
    {
      "cell_type": "markdown",
      "metadata": {},
      "source": [
        "## Key points\n1. Non-linear models can be incorporated into the tracking scheme through the use of the\n   appropriate combination of :class:`~.Predictor`/:class:`~.TransitionModel` or\n   :class:`~.Updater`/:class:`~.MeasurementModel`\n2. Because Stone Soup uses inheritance, the amount of engineering required to achieve this is\n   minimal and the interface is the same. A user can apply the EKF components in exactly the same\n   way as the KF.\n\n"
      ]
    },
    {
      "cell_type": "markdown",
      "metadata": {},
      "source": [
        "The first order approximations used by the EKF provide a simple way to handle non-linear tracking\nproblems. However, in highly non-linear systems these simplifications can lead to large errors in\nboth the posterior state mean and covariance. In instances where we have noisy transition, or\nperhaps unreliable measurement, this could lead to a sub-optimal performance or even divergence\nof the filter. In the next tutorial, we see how the **unscented Kalman filter** can begin to\naddresses these issues.\n\n"
      ]
    },
    {
      "cell_type": "markdown",
      "metadata": {},
      "source": [
        "## References\n.. [#] Anderson & Moore 2012, Optimal filtering,\n       (http://users.cecs.anu.edu.au/~john/papers/BOOK/B02.PDF)\n\n"
      ]
    }
  ],
  "metadata": {
    "kernelspec": {
      "display_name": "Python 3",
      "language": "python",
      "name": "python3"
    },
    "language_info": {
      "codemirror_mode": {
        "name": "ipython",
        "version": 3
      },
      "file_extension": ".py",
      "mimetype": "text/x-python",
      "name": "python",
      "nbconvert_exporter": "python",
      "pygments_lexer": "ipython3",
      "version": "3.12.3"
    }
  },
  "nbformat": 4,
  "nbformat_minor": 0
}