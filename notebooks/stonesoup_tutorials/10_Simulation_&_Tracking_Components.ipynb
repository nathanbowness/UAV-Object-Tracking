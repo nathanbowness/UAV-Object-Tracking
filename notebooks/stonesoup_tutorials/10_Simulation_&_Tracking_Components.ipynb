{
  "cells": [
    {
      "cell_type": "markdown",
      "metadata": {},
      "source": [
        "\n# 10 - Tracking in simulation: bringing all components together\nThe previous tutorials have introduced various aspects of Stone Soup covering inference and data\nassociation for multiple-target trackers, using simulated data. This tutorial consolidates those\naspects in a notebook which can be modified to individual need. It contains all aspects\nintroduced in previous tutorials, and nothing new.\n"
      ]
    },
    {
      "cell_type": "markdown",
      "metadata": {},
      "source": [
        "## Process\nThis notebook, as with the previous, proceeds according to the following steps:\n\n1. Create the simulation\n\n  * Initialise the 'playing field'\n  * Choose number of targets and initial states\n  * Create some transition models\n  * Create some sensor models\n\n2. Initialise the tracker components\n\n  * Initialise predictors\n  * Initialise updaters\n  * Initialise data associations, hypothesisers\n  * Initiators and deleters\n  * Create the tracker\n\n3. Run the tracker\n\n  * Plot the output\n\n\n"
      ]
    },
    {
      "cell_type": "markdown",
      "metadata": {},
      "source": [
        "## Create the simulation\n\n"
      ]
    },
    {
      "cell_type": "markdown",
      "metadata": {},
      "source": [
        "Separate out the imports\n\n"
      ]
    },
    {
      "cell_type": "code",
      "execution_count": null,
      "metadata": {
        "collapsed": false
      },
      "outputs": [],
      "source": [
        "import numpy as np\nimport datetime"
      ]
    },
    {
      "cell_type": "markdown",
      "metadata": {},
      "source": [
        "### Initialise ground truth\nHere are some configurable parameters associated with the ground truth, e.g. defining where\ntracks are born and at what rate, death probability. This follows similar logic to the code\nin previous tutorial section `auto_tutorials/09_Initiators_&_Deleters:Simulating Multiple\nTargets`.\n\n"
      ]
    },
    {
      "cell_type": "code",
      "execution_count": null,
      "metadata": {
        "collapsed": false
      },
      "outputs": [],
      "source": [
        "from stonesoup.types.array import StateVector, CovarianceMatrix\nfrom stonesoup.types.state import GaussianState\ninitial_state_mean = StateVector([[0], [0], [0], [0]])\ninitial_state_covariance = CovarianceMatrix(np.diag([4, 0.5, 4, 0.5]))\ntimestep_size = datetime.timedelta(seconds=5)\nnumber_of_steps = 20\nbirth_rate = 0.3\ndeath_probability = 0.05\nstart_time = datetime.datetime.now().replace(microsecond=0)\ninitial_state = GaussianState(initial_state_mean, initial_state_covariance, start_time)"
      ]
    },
    {
      "cell_type": "markdown",
      "metadata": {},
      "source": [
        "Create the transition model - default set to 2d nearly-constant velocity with small (0.05)\nvariance.\n\n"
      ]
    },
    {
      "cell_type": "code",
      "execution_count": null,
      "metadata": {
        "collapsed": false
      },
      "outputs": [],
      "source": [
        "from stonesoup.models.transition.linear import (\n    CombinedLinearGaussianTransitionModel, ConstantVelocity)\ntransition_model = CombinedLinearGaussianTransitionModel(\n    [ConstantVelocity(0.05), ConstantVelocity(0.05)])"
      ]
    },
    {
      "cell_type": "markdown",
      "metadata": {},
      "source": [
        "Put this all together in a multi-target simulator.\n\n"
      ]
    },
    {
      "cell_type": "code",
      "execution_count": null,
      "metadata": {
        "collapsed": false
      },
      "outputs": [],
      "source": [
        "from stonesoup.simulator.simple import MultiTargetGroundTruthSimulator\ngroundtruth_sim = MultiTargetGroundTruthSimulator(\n    transition_model=transition_model,\n    initial_state=initial_state,\n    timestep=timestep_size,\n    number_steps=number_of_steps,\n    birth_rate=birth_rate,\n    death_probability=death_probability\n)"
      ]
    },
    {
      "cell_type": "markdown",
      "metadata": {},
      "source": [
        "### Initialise the measurement models\nThe simulated ground truth will then be passed to a simple detection simulator. This again has a\nnumber of configurable parameters, e.g. where clutter is generated and at what rate, and\ndetection probability. This implements similar logic to the code in the previous tutorial section\n`auto_tutorials/09_Initiators_&_Deleters:Generate Detections and Clutter`.\n\n"
      ]
    },
    {
      "cell_type": "code",
      "execution_count": null,
      "metadata": {
        "collapsed": false
      },
      "outputs": [],
      "source": [
        "from stonesoup.simulator.simple import SimpleDetectionSimulator\nfrom stonesoup.models.measurement.linear import LinearGaussian\n\n# initialise the measurement model\nmeasurement_model_covariance = np.diag([0.25, 0.25])\nmeasurement_model = LinearGaussian(4, [0, 2], measurement_model_covariance)\n\n# probability of detection\nprobability_detection = 0.9\n\n# clutter will be generated uniformly in this are around the target\nclutter_area = np.array([[-1, 1], [-1, 1]])*30\nclutter_rate = 1"
      ]
    },
    {
      "cell_type": "markdown",
      "metadata": {},
      "source": [
        "The detection simulator\n\n"
      ]
    },
    {
      "cell_type": "code",
      "execution_count": null,
      "metadata": {
        "collapsed": false
      },
      "outputs": [],
      "source": [
        "detection_sim = SimpleDetectionSimulator(\n    groundtruth=groundtruth_sim,\n    measurement_model=measurement_model,\n    detection_probability=probability_detection,\n    meas_range=clutter_area,\n    clutter_rate=clutter_rate\n)"
      ]
    },
    {
      "cell_type": "markdown",
      "metadata": {},
      "source": [
        "## Create the tracker components\nIn this example a Kalman filter is used with global nearest neighbour (GNN) associator. Other\noptions are, of course, available.\n\n\n"
      ]
    },
    {
      "cell_type": "markdown",
      "metadata": {},
      "source": [
        "### Predictor\nInitialise the predictor using the same transition model as generated the ground truth. Note you\ndon't have to use the same model.\n\n"
      ]
    },
    {
      "cell_type": "code",
      "execution_count": null,
      "metadata": {
        "collapsed": false
      },
      "outputs": [],
      "source": [
        "from stonesoup.predictor.kalman import KalmanPredictor\npredictor = KalmanPredictor(transition_model)"
      ]
    },
    {
      "cell_type": "markdown",
      "metadata": {},
      "source": [
        "### Updater\nInitialise the updater using the same measurement model as generated the simulated detections.\nNote, again, you don't have to use the same model (noise covariance).\n\n"
      ]
    },
    {
      "cell_type": "code",
      "execution_count": null,
      "metadata": {
        "collapsed": false
      },
      "outputs": [],
      "source": [
        "from stonesoup.updater.kalman import KalmanUpdater\nupdater = KalmanUpdater(measurement_model)"
      ]
    },
    {
      "cell_type": "markdown",
      "metadata": {},
      "source": [
        "### Data associator\nInitialise a hypothesiser which will rank predicted measurement - measurement pairs according to\nsome measure.\nInitialise a Mahalanobis distance measure to facilitate this ranking.\n\n"
      ]
    },
    {
      "cell_type": "code",
      "execution_count": null,
      "metadata": {
        "collapsed": false
      },
      "outputs": [],
      "source": [
        "from stonesoup.hypothesiser.distance import DistanceHypothesiser\nfrom stonesoup.measures import Mahalanobis\nhypothesiser = DistanceHypothesiser(predictor, updater, measure=Mahalanobis(), missed_distance=3)"
      ]
    },
    {
      "cell_type": "markdown",
      "metadata": {},
      "source": [
        "Initialise the GNN with the hypothesiser.\n\n"
      ]
    },
    {
      "cell_type": "code",
      "execution_count": null,
      "metadata": {
        "collapsed": false
      },
      "outputs": [],
      "source": [
        "from stonesoup.dataassociator.neighbour import GNNWith2DAssignment\ndata_associator = GNNWith2DAssignment(hypothesiser)"
      ]
    },
    {
      "cell_type": "markdown",
      "metadata": {},
      "source": [
        "### Initiator and Deleter\nCreate deleter - get rid of anything with a covariance trace greater than 2\n\n"
      ]
    },
    {
      "cell_type": "code",
      "execution_count": null,
      "metadata": {
        "collapsed": false
      },
      "outputs": [],
      "source": [
        "from stonesoup.deleter.error import CovarianceBasedDeleter\ncovariance_limit_for_delete = 2\ndeleter = CovarianceBasedDeleter(covar_trace_thresh=covariance_limit_for_delete)"
      ]
    },
    {
      "cell_type": "markdown",
      "metadata": {},
      "source": [
        "Set a standard prior state and the minimum number of detections required to qualify for\ninitiation\n\n"
      ]
    },
    {
      "cell_type": "code",
      "execution_count": null,
      "metadata": {
        "collapsed": false
      },
      "outputs": [],
      "source": [
        "s_prior_state = GaussianState([[0], [0], [0], [0]], np.diag([0, 0.5, 0, 0.5]))\nmin_detections = 3"
      ]
    },
    {
      "cell_type": "markdown",
      "metadata": {},
      "source": [
        "Initialise the initiator - use the 'full tracker' components specified above in the initiator.\nBut note that other ones could be used if needed.\n\n"
      ]
    },
    {
      "cell_type": "code",
      "execution_count": null,
      "metadata": {
        "collapsed": false
      },
      "outputs": [],
      "source": [
        "from stonesoup.initiator.simple import MultiMeasurementInitiator\ninitiator = MultiMeasurementInitiator(\n    prior_state=s_prior_state,\n    measurement_model=measurement_model,\n    deleter=deleter,\n    data_associator=data_associator,\n    updater=updater,\n    min_points=min_detections\n)"
      ]
    },
    {
      "cell_type": "markdown",
      "metadata": {},
      "source": [
        "## Run the Tracker\nWith the components created, the multi-target tracker component is created, constructed from\nthe components specified above. This is logically the same as tracking code in the previous\ntutorial section `auto_tutorials/09_Initiators_&_Deleters:Running the Tracker`\n\n"
      ]
    },
    {
      "cell_type": "code",
      "execution_count": null,
      "metadata": {
        "collapsed": false
      },
      "outputs": [],
      "source": [
        "from stonesoup.tracker.simple import MultiTargetTracker\n\ntracker = MultiTargetTracker(\n    initiator=initiator,\n    deleter=deleter,\n    detector=detection_sim,\n    data_associator=data_associator,\n    updater=updater,\n)"
      ]
    },
    {
      "cell_type": "markdown",
      "metadata": {},
      "source": [
        "In the case of using (J)PDA like in `auto_tutorials/07_PDATutorial:Run the PDA Filter`\nand `auto_tutorials/08_JPDATutorial:Running the JPDA filter`, then the\n:class:`~.MultiTargetMixtureTracker` would be used instead on the\n:class:`~.MultiTargetTracker` used above.\n\n### Plot the outputs\nWe plot the ground truth, detections and the tracker output\nusing the Stone Soup :class:`AnimatedPlotterly`. First, get the ground truths, detections,\nand tracks from the tracker:\n\n"
      ]
    },
    {
      "cell_type": "code",
      "execution_count": null,
      "metadata": {
        "collapsed": false
      },
      "outputs": [],
      "source": [
        "groundtruth = set()\ndetections = set()\ntracks = set()\n\nfor time, ctracks in tracker:\n    groundtruth.update(groundtruth_sim.groundtruth_paths)\n    detections.update(detection_sim.detections)\n    tracks.update(ctracks)"
      ]
    },
    {
      "cell_type": "markdown",
      "metadata": {},
      "source": [
        "And plot them:\n\n"
      ]
    },
    {
      "cell_type": "code",
      "execution_count": null,
      "metadata": {
        "collapsed": false
      },
      "outputs": [],
      "source": [
        "from stonesoup.plotter import AnimatedPlotterly\n\ntimesteps = [start_time + timestep_size*k for k in range(number_of_steps)]\n\nplotter = AnimatedPlotterly(timesteps, tail_length=1)\nplotter.plot_ground_truths(groundtruth, mapping=[0, 2])\nplotter.plot_measurements(detections, mapping=[0, 2])\nplotter.plot_tracks(tracks, mapping=[0, 2])\nplotter.show()"
      ]
    }
  ],
  "metadata": {
    "kernelspec": {
      "display_name": "Python 3",
      "language": "python",
      "name": "python3"
    },
    "language_info": {
      "codemirror_mode": {
        "name": "ipython",
        "version": 3
      },
      "file_extension": ".py",
      "mimetype": "text/x-python",
      "name": "python",
      "nbconvert_exporter": "python",
      "pygments_lexer": "ipython3",
      "version": "3.12.3"
    }
  },
  "nbformat": 4,
  "nbformat_minor": 0
}